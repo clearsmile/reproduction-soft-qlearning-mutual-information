{
 "cells": [
  {
   "cell_type": "code",
   "execution_count": null,
   "metadata": {},
   "outputs": [],
   "source": [
    "import matplotlib.pyplot as plt\n",
    "import numpy as np\n",
    "import os\n",
    "import glob\n",
    "import pandas as pd\n",
    "from collections import namedtuple\n",
    "import seaborn as sns\n",
    "sns.set()\n",
    "%matplotlib inline"
   ]
  },
  {
   "cell_type": "code",
   "execution_count": null,
   "metadata": {},
   "outputs": [],
   "source": [
    "#path = glob.glob(\"../logs/MiniGrid-FourRooms-v0/*/*/*/train/results.csv\n",
    "#path = glob.glob(\"../logs/MiniGrid-Empty-6x6-v0/*/*/*/train/results.csv\")\n",
    "path = glob.glob(\"../logs/MiniGrid-Unlock-v0/*/*/*/train/results.csv\")"
   ]
  },
  {
   "cell_type": "code",
   "execution_count": null,
   "metadata": {},
   "outputs": [],
   "source": [
    "def smooth(x,w=.999):\n",
    "    p = x[0]\n",
    "    xs = []\n",
    "    for d in x:\n",
    "        p = p * w + (1-w) * d\n",
    "        xs.append(p)\n",
    "    return np.array(xs)"
   ]
  },
  {
   "cell_type": "code",
   "execution_count": null,
   "metadata": {},
   "outputs": [],
   "source": [
    "models = {}"
   ]
  },
  {
   "cell_type": "code",
   "execution_count": null,
   "metadata": {},
   "outputs": [],
   "source": [
    "for p in path:\n",
    "    env, agent, seed = p.split('/')[2:5]\n",
    "    results = pd.read_csv(p, index_col=0)\n",
    "    if agent not in models.keys():\n",
    "        models[agent] = {}\n",
    "    models[agent][seed] = results"
   ]
  },
  {
   "cell_type": "code",
   "execution_count": null,
   "metadata": {},
   "outputs": [],
   "source": [
    "list(models.keys())"
   ]
  },
  {
   "cell_type": "code",
   "execution_count": null,
   "metadata": {},
   "outputs": [],
   "source": [
    "results = {}\n",
    "for k,v in models.items():\n",
    "    rw = [df.rw for df in v.values()]\n",
    "    rw = np.array(rw).reshape((-1,4)).mean(axis=1)\n",
    "    results[k] = rw"
   ]
  },
  {
   "cell_type": "code",
   "execution_count": null,
   "metadata": {},
   "outputs": [],
   "source": [
    "results =pd.DataFrame(results).apply(smooth, axis=0)"
   ]
  },
  {
   "cell_type": "code",
   "execution_count": null,
   "metadata": {},
   "outputs": [],
   "source": [
    "fig,ax = plt.subplots(1,1, figsize=(20,5))\n",
    "ax.plot(results.values)\n",
    "fig.legend(results.columns.tolist())\n",
    "fig.savefig(env +'.png')"
   ]
  },
  {
   "cell_type": "code",
   "execution_count": null,
   "metadata": {},
   "outputs": [],
   "source": [
    "fig,ax = plt.subplots(1,1, figsize=(20,5))\n",
    "ax.plot(results.values)\n",
    "fig.legend(results.columns.tolist())\n",
    "fig.savefig(env +'.png')"
   ]
  },
  {
   "cell_type": "code",
   "execution_count": null,
   "metadata": {},
   "outputs": [],
   "source": [
    "fig,ax = plt.subplots(1,1, figsize=(20,5))\n",
    "ax.plot(results.values)\n",
    "fig.legend(results.columns.tolist())\n",
    "fig.savefig(env +'.png')"
   ]
  },
  {
   "cell_type": "code",
   "execution_count": null,
   "metadata": {},
   "outputs": [],
   "source": [
    "def load_trajectory(path):\n",
    "    df = pd.read_pickle(path)\n",
    "\n",
    "    keys = (\"s1\", \"a\", \"r\", \"s2\", \"d\")\n",
    "    memory = {k:[] for k in keys}\n",
    "\n",
    "    s1,a,s2,r,dones = [], [], [], [],[]\n",
    "    for d in df:\n",
    "        for idx, k in enumerate(memory.keys()):\n",
    "            memory[k].append(d[idx])\n",
    "\n",
    "    memory = {k:np.array(v) for k,v in memory.items()}\n",
    "    return memory"
   ]
  }
 ],
 "metadata": {
  "kernelspec": {
   "display_name": "Python 3",
   "language": "python",
   "name": "python3"
  },
  "language_info": {
   "codemirror_mode": {
    "name": "ipython",
    "version": 3
   },
   "file_extension": ".py",
   "mimetype": "text/x-python",
   "name": "python",
   "nbconvert_exporter": "python",
   "pygments_lexer": "ipython3",
   "version": "3.7.0"
  }
 },
 "nbformat": 4,
 "nbformat_minor": 2
}
